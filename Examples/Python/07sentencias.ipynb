{
 "worksheets": [
  {
   "cells": [
    {
     "cell_type": "heading",
     "metadata": {},
     "level": 1,
     "source": [
      "Sentencias"
     ]
    },
    {
     "cell_type": "markdown",
     "metadata": {},
     "source": [
      "Como alternativa solo tenemos el if"
     ]
    },
    {
     "cell_type": "code",
     "metadata": {},
     "outputs": [
      {
       "output_type": "stream",
       "stream": "stdout",
       "text": [
        "entre 2 y 3\n"
       ]
      }
     ],
     "input": [
      "a = 3\n",
      "if a > 3:\n",
      "    print 'mayor que 3'\n",
      "elif a<2:\n",
      "    print 'menor que 2'\n",
      "else:\n",
      "    print 'entre 2 y 3'"
     ],
     "language": "python",
     "prompt_number": 1
    },
    {
     "cell_type": "markdown",
     "metadata": {},
     "source": [
      "Para bucles tenemos el for, que itera sobre cualquier tipo que sea una secuencia"
     ]
    },
    {
     "cell_type": "code",
     "metadata": {},
     "outputs": [
      {
       "output_type": "stream",
       "stream": "stdout",
       "text": [
        "0\n1\n2\n3\n4\n"
       ]
      }
     ],
     "input": [
      "for i in range(5):\n",
      "    print i"
     ],
     "language": "python",
     "prompt_number": 3
    },
    {
     "cell_type": "code",
     "metadata": {},
     "outputs": [
      {
       "output_type": "stream",
       "stream": "stdout",
       "text": [
        "pepe\n3.14\n1\n2\n(1, 2)\n"
       ]
      }
     ],
     "input": [
      "a = ['pepe', 3.14, 1, 2, (1,2)]\n",
      "for i in a:\n",
      "    print i"
     ],
     "language": "python",
     "prompt_number": 18
    },
    {
     "cell_type": "markdown",
     "metadata": {},
     "source": [
      "Ciertas funciones nos permiten hacer cosas interesantes sobre las listas, por ejemplo generar una lista de pares con las posiciones y valores de la secuencia"
     ]
    },
    {
     "cell_type": "code",
     "metadata": {},
     "outputs": [
      {
       "output_type": "stream",
       "stream": "stdout",
       "text": [
        "0 - pepe\n1 - 3.14\n2 - 1\n3 - 2\n4 - (1, 2)\n"
       ]
      }
     ],
     "input": [
      "for i,j in enumerate(a):\n",
      "    print i,'-', j"
     ],
     "language": "python",
     "prompt_number": 26
    },
    {
     "cell_type": "markdown",
     "metadata": {},
     "source": [
      "Podemos usar funciones de los tipos para poder hacer los recorridos"
     ]
    },
    {
     "cell_type": "code",
     "metadata": {},
     "outputs": [
      {
       "output_type": "stream",
       "stream": "stdout",
       "text": [
        "2\n3\n1\n"
       ]
      }
     ],
     "input": [
      "a = {'pepe': 3, 'juan': 2, 'maria': 1}\n",
      "for i in a.keys():\n",
      "    print a[i]"
     ],
     "language": "python",
     "prompt_number": 6
    },
    {
     "cell_type": "markdown",
     "metadata": {},
     "source": [
      "Y manupularlas para poder realizar el recorrido como queramos, por ejemplo los diccionarios no ordenan sus claves, pero podemos ordenarlas nosotros para hacer el recorrido"
     ]
    },
    {
     "cell_type": "code",
     "metadata": {},
     "outputs": [
      {
       "output_type": "stream",
       "stream": "stdout",
       "text": [
        "2\n1\n3\n"
       ]
      }
     ],
     "input": [
      "for i in sorted(a.keys()):\n",
      "    print a[i]"
     ],
     "language": "python",
     "prompt_number": 14
    },
    {
     "cell_type": "markdown",
     "metadata": {},
     "source": [
      "Aparte del for tenemos tambien el while"
     ]
    },
    {
     "cell_type": "code",
     "metadata": {},
     "outputs": [
      {
       "output_type": "stream",
       "stream": "stdout",
       "text": [
        "1\n2\n3\n4\n5\n"
       ]
      }
     ],
     "input": [
      "a = 0\n",
      "while a < 5:\n",
      "    a += 1\n",
      "    print a"
     ],
     "language": "python",
     "prompt_number": 28
    },
    {
     "cell_type": "markdown",
     "metadata": {},
     "source": [
      "El for tambien se puede usar para generar listas (en python se llama list comprehensions) y suele ser mas eficiente que usar directamente un bucle"
     ]
    },
    {
     "cell_type": "code",
     "metadata": {},
     "outputs": [
      {
       "output_type": "pyout",
       "text": [
        "[4, 16, 36, 64]"
       ],
       "metadata": {}
      }
     ],
     "input": [
      "a = [i**2 for i in range(2,10,2)]\n",
      "a"
     ],
     "language": "python",
     "prompt_number": 38
    },
    {
     "cell_type": "markdown",
     "metadata": {},
     "source": [
      "Podemos utilizar otras sentencias para modificar el resultado"
     ]
    },
    {
     "cell_type": "code",
     "metadata": {},
     "outputs": [
      {
       "output_type": "pyout",
       "text": [
        "[4, 16, 36, 64]"
       ],
       "metadata": {}
      }
     ],
     "input": [
      "a = [i**2 for i in range(2,10) if i % 2 == 0]\n",
      "a"
     ],
     "language": "python",
     "prompt_number": 1
    },
    {
     "cell_type": "markdown",
     "metadata": {},
     "source": [
      "El tratamiento de excepciones se hace con la estructura try/catch, por ejemplo esto da una division por cero"
     ]
    },
    {
     "cell_type": "code",
     "metadata": {},
     "outputs": [
      {
       "output_type": "stream",
       "stream": "stdout",
       "text": [
        "integer division or modulo by zero\n"
       ]
      }
     ],
     "input": [
      "try:\n",
      "    a = 2 / 0\n",
      "except ZeroDivisionError, e:\n",
      "    print e"
     ],
     "language": "python",
     "prompt_number": 41
    }
   ]
  }
 ],
 "cells": [],
 "metadata": {},
 "nbformat": 3,
 "nbformat_minor": 0
}