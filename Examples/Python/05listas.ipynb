{
 "worksheets": [
  {
   "cells": [
    {
     "cell_type": "heading",
     "metadata": {},
     "level": 1,
     "source": [
      "Listas"
     ]
    },
    {
     "cell_type": "markdown",
     "metadata": {},
     "source": [
      "Las listas son una estructura primitiva del lenguaje y pueden contener cualquier tipo, se definen poniendo los elementos entre corchetes ([] = lista vacia)"
     ]
    },
    {
     "cell_type": "code",
     "metadata": {},
     "outputs": [
      {
       "output_type": "pyout",
       "text": [
        "[1, 'aaa', 3.4, 7, 'hola mundo']"
       ],
       "metadata": {}
      }
     ],
     "input": [
      "a = [1, 'aaa', 3.4, 7, 'hola mundo']\n",
      "a"
     ],
     "language": "python",
     "prompt_number": 1
    },
    {
     "cell_type": "markdown",
     "metadata": {},
     "source": [
      "Son indexables y mutables (a diferencia de las tuplas)"
     ]
    },
    {
     "cell_type": "code",
     "metadata": {},
     "outputs": [
      {
       "output_type": "pyout",
       "text": [
        "[1, 'bbb', 3.4, 7, 'hola mundo']"
       ],
       "metadata": {}
      }
     ],
     "input": [
      "a[1] = 'bbb'\n",
      "a"
     ],
     "language": "python",
     "prompt_number": 2
    },
    {
     "cell_type": "markdown",
     "metadata": {},
     "source": [
      "Tenemos operaciones habituales de listas como pertenencia, concatenacion, extension, longitud, ..."
     ]
    },
    {
     "cell_type": "code",
     "metadata": {},
     "outputs": [
      {
       "output_type": "pyout",
       "text": [
        "True"
       ],
       "metadata": {}
      }
     ],
     "input": [
      "3.4 in a"
     ],
     "language": "python",
     "prompt_number": 3
    },
    {
     "cell_type": "code",
     "metadata": {},
     "outputs": [
      {
       "output_type": "pyout",
       "text": [
        "[1, 'bbb', 3.4, 7, 'hola mundo', (1, 2)]"
       ],
       "metadata": {}
      }
     ],
     "input": [
      "a.append((1,2))\n",
      "a"
     ],
     "language": "python",
     "prompt_number": 4
    },
    {
     "cell_type": "code",
     "metadata": {},
     "outputs": [
      {
       "output_type": "pyout",
       "text": [
        "[1, 'bbb', 3.4, 7, 'hola mundo', (1, 2), [3, 4]]"
       ],
       "metadata": {}
      }
     ],
     "input": [
      "a.append([3,4])\n",
      "a"
     ],
     "language": "python",
     "prompt_number": 5
    },
    {
     "cell_type": "code",
     "metadata": {},
     "outputs": [
      {
       "output_type": "pyout",
       "text": [
        "[1, 'bbb', 3.4, 7, 'hola mundo', (1, 2), [3, 4], 3, 4, 5]"
       ],
       "metadata": {}
      }
     ],
     "input": [
      "a.extend([3,4,5])\n",
      "a"
     ],
     "language": "python",
     "prompt_number": 6
    },
    {
     "cell_type": "code",
     "metadata": {},
     "outputs": [
      {
       "output_type": "pyout",
       "text": [
        "10"
       ],
       "metadata": {}
      }
     ],
     "input": [
      "len(a)"
     ],
     "language": "python",
     "prompt_number": 7
    },
    {
     "cell_type": "markdown",
     "metadata": {},
     "source": [
      "Podemos acceder a trozos de la lista mediante indexacion"
     ]
    },
    {
     "cell_type": "code",
     "metadata": {},
     "outputs": [
      {
       "output_type": "pyout",
       "text": [
        "['bbb', 3.4, 7]"
       ],
       "metadata": {}
      }
     ],
     "input": [
      "a[1:4]"
     ],
     "language": "python",
     "prompt_number": 8
    },
    {
     "cell_type": "markdown",
     "metadata": {},
     "source": [
      "Dejando el segundo indice de la seleccion vacio accedemos hasta el final de la lista (si dejamos el primero seleccionamos desde el principio)"
     ]
    },
    {
     "cell_type": "code",
     "metadata": {},
     "outputs": [
      {
       "output_type": "pyout",
       "text": [
        "[7, 'hola mundo', (1, 2), [3, 4], 3, 4, 5]"
       ],
       "metadata": {}
      }
     ],
     "input": [
      "a[3:]"
     ],
     "language": "python",
     "prompt_number": 9
    },
    {
     "cell_type": "markdown",
     "metadata": {},
     "source": [
      "Ciertas operaciones generan listas como resultado (range = lista de enteros entre dos limites)"
     ]
    },
    {
     "cell_type": "code",
     "metadata": {},
     "outputs": [
      {
       "output_type": "pyout",
       "text": [
        "[3, 4, 5, 6, 7, 8, 9]"
       ],
       "metadata": {}
      }
     ],
     "input": [
      "l = range(3,10)\n",
      "l"
     ],
     "language": "python",
     "prompt_number": 10
    },
    {
     "cell_type": "markdown",
     "metadata": {},
     "source": [
      "Las operaciones aritmeticas estan sobrecagadas para el tipo lista con los efectos esperados"
     ]
    },
    {
     "cell_type": "code",
     "metadata": {},
     "outputs": [
      {
       "output_type": "pyout",
       "text": [
        "[1, 'bbb', 3.4, 7, 'hola mundo', (1, 2), [3, 4], 3, 4, 5, 3, 4, 5, 6, 7, 8, 9]"
       ],
       "metadata": {}
      }
     ],
     "input": [
      "a + l"
     ],
     "language": "python",
     "prompt_number": 11
    },
    {
     "cell_type": "markdown",
     "metadata": {},
     "source": [
      "Tenemos operaciones interesantes sobre el tipo lista, con definicion de la ordenacion segun el tipo de los datos. En este caso como la lista es heterogenea no sabe como ordenar (le podemos pasar una funcion para determinar el orden)"
     ]
    },
    {
     "cell_type": "code",
     "metadata": {},
     "outputs": [],
     "input": [
      "a.sort()"
     ],
     "language": "python",
     "prompt_number": 12
    },
    {
     "cell_type": "markdown",
     "metadata": {},
     "source": [
      "Si la lista es homogenea usa el orden natural del tipo"
     ]
    },
    {
     "cell_type": "code",
     "metadata": {},
     "outputs": [
      {
       "output_type": "pyout",
       "text": [
        "[3, 4, 5, 6, 7, 8, 9, 1]"
       ],
       "metadata": {}
      }
     ],
     "input": [
      "l.append(1)\n",
      "l"
     ],
     "language": "python",
     "prompt_number": 13
    },
    {
     "cell_type": "code",
     "metadata": {},
     "outputs": [
      {
       "output_type": "pyout",
       "text": [
        "[1, 3, 4, 5, 6, 7, 8, 9]"
       ],
       "metadata": {}
      }
     ],
     "input": [
      "l.sort()\n",
      "l"
     ],
     "language": "python",
     "prompt_number": 14
    },
    {
     "cell_type": "markdown",
     "metadata": {},
     "source": [
      "Tenemos operaciones que permiten usar las listas como otras estructuras"
     ]
    },
    {
     "cell_type": "code",
     "metadata": {},
     "outputs": [
      {
       "output_type": "pyout",
       "text": [
        "[1, 3, 4, 5, 6, 7, 8]"
       ],
       "metadata": {}
      }
     ],
     "input": [
      "l.pop()\n",
      "l"
     ],
     "language": "python",
     "prompt_number": 15
    },
    {
     "cell_type": "code",
     "metadata": {},
     "outputs": [
      {
       "output_type": "pyout",
       "text": [
        "['hola', 1, 3, 4, 5, 6, 7, 8]"
       ],
       "metadata": {}
      }
     ],
     "input": [
      "l.insert(0, 'hola')\n",
      "l"
     ],
     "language": "python",
     "prompt_number": 16
    },
    {
     "cell_type": "markdown",
     "metadata": {},
     "source": [
      "Más sobre listas en https://docs.python.org/2/tutorial/datastructures.html#more-on-lists"
     ]
    }
   ]
  }
 ],
 "cells": [],
 "metadata": {},
 "nbformat": 3,
 "nbformat_minor": 0
}