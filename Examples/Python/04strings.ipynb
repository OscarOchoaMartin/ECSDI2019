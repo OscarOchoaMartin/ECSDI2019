{
 "worksheets": [
  {
   "cells": [
    {
     "cell_type": "heading",
     "metadata": {},
     "level": 1,
     "source": [
      "Strings"
     ]
    },
    {
     "cell_type": "markdown",
     "metadata": {},
     "source": [
      "Los string se denotan con simples o dobles comillas "
     ]
    },
    {
     "cell_type": "code",
     "metadata": {},
     "outputs": [
      {
       "output_type": "pyout",
       "text": [
        "'hola mundo'"
       ],
       "metadata": {}
      }
     ],
     "input": [
      "a = 'hola mundo'\n",
      "a"
     ],
     "language": "python",
     "prompt_number": 2
    },
    {
     "cell_type": "markdown",
     "metadata": {},
     "source": [
      "Podemos acceder por posicion a cada caracter"
     ]
    },
    {
     "cell_type": "code",
     "metadata": {},
     "outputs": [
      {
       "output_type": "pyout",
       "text": [
        "'o'"
       ],
       "metadata": {}
      }
     ],
     "input": [
      "a[1]"
     ],
     "language": "python",
     "prompt_number": 3
    },
    {
     "cell_type": "markdown",
     "metadata": {},
     "source": [
      "Concatenarlos"
     ]
    },
    {
     "cell_type": "code",
     "metadata": {},
     "outputs": [
      {
       "output_type": "pyout",
       "text": [
        "'hola mundo/hola mundo'"
       ],
       "metadata": {}
      }
     ],
     "input": [
      "b = a + '/' + a\n",
      "b"
     ],
     "language": "python",
     "prompt_number": 4
    },
    {
     "cell_type": "markdown",
     "metadata": {},
     "source": [
      "Usar el autoincremento"
     ]
    },
    {
     "cell_type": "code",
     "metadata": {},
     "outputs": [
      {
       "output_type": "pyout",
       "text": [
        "'hola mundo/hola mundo mundo'"
       ],
       "metadata": {}
      }
     ],
     "input": [
      "b += ' mundo'\n",
      "b"
     ],
     "language": "python",
     "prompt_number": 5
    },
    {
     "cell_type": "markdown",
     "metadata": {},
     "source": [
      "Y otras operaciones sobre cadenas habituales sobre strings"
     ]
    },
    {
     "cell_type": "code",
     "metadata": {},
     "outputs": [
      {
       "output_type": "pyout",
       "text": [
        "['hola', 'mundo/hola', 'mundo', 'mundo']"
       ],
       "metadata": {}
      }
     ],
     "input": [
      "b.split(' ')"
     ],
     "language": "python",
     "prompt_number": 6
    },
    {
     "cell_type": "code",
     "metadata": {},
     "outputs": [
      {
       "output_type": "pyout",
       "text": [
        "5"
       ],
       "metadata": {}
      }
     ],
     "input": [
      "b.find('mundo')"
     ],
     "language": "python",
     "prompt_number": 7
    },
    {
     "cell_type": "code",
     "metadata": {},
     "outputs": [
      {
       "output_type": "pyout",
       "text": [
        "'hola mon/hola mon mon'"
       ],
       "metadata": {}
      }
     ],
     "input": [
      "b.replace('mundo', 'mon')"
     ],
     "language": "python",
     "prompt_number": 8
    },
    {
     "cell_type": "markdown",
     "metadata": {},
     "source": [
      "Operacones sobre strings en https://docs.python.org/2/library/string.html"
     ]
    }
   ]
  }
 ],
 "cells": [],
 "metadata": {},
 "nbformat": 3,
 "nbformat_minor": 0
}