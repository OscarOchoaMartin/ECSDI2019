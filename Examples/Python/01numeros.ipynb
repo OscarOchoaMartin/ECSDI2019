{
 "worksheets": [
  {
   "cells": [
    {
     "cell_type": "heading",
     "metadata": {},
     "level": 1,
     "source": [
      "Numeros"
     ]
    },
    {
     "cell_type": "markdown",
     "metadata": {},
     "source": [
      "Simple asignacion a una variable"
     ]
    },
    {
     "cell_type": "code",
     "execution_count": null,
     "metadata": {},
     "outputs": [],
     "input": [
      "a = 2"
     ],
     "language": "python",
     "prompt_number": 1
    },
    {
     "cell_type": "code",
     "execution_count": null,
     "metadata": {},
     "outputs": [
      {
       "output_type": "pyout",
       "text": [
        "2"
       ],
       "metadata": {}
      }
     ],
     "input": [
      "a"
     ],
     "language": "python",
     "prompt_number": 2
    },
    {
     "cell_type": "markdown",
     "metadata": {},
     "source": [
      "Operaciones aritmeticas varias"
     ]
    },
    {
     "cell_type": "code",
     "execution_count": null,
     "metadata": {},
     "outputs": [
      {
       "output_type": "pyout",
       "text": [
        "6"
       ],
       "metadata": {}
      }
     ],
     "input": [
      "a = 2 + 4\n",
      "\n",
      "a"
     ],
     "language": "python",
     "prompt_number": 3
    },
    {
     "cell_type": "code",
     "execution_count": null,
     "metadata": {},
     "outputs": [
      {
       "output_type": "pyout",
       "text": [
        "3"
       ],
       "metadata": {}
      }
     ],
     "input": [
      "b = a / 2\n",
      "\n",
      "b"
     ],
     "language": "python",
     "prompt_number": 4
    },
    {
     "cell_type": "markdown",
     "metadata": {},
     "source": [
      "Auto incremento"
     ]
    },
    {
     "cell_type": "code",
     "execution_count": null,
     "metadata": {},
     "outputs": [
      {
       "output_type": "pyout",
       "text": [
        "8"
       ],
       "metadata": {}
      }
     ],
     "input": [
      "a += 2\n",
      "\n",
      "a"
     ],
     "language": "python",
     "prompt_number": 5
    },
    {
     "cell_type": "markdown",
     "metadata": {},
     "source": [
      "Modulo de enteros"
     ]
    },
    {
     "cell_type": "code",
     "execution_count": null,
     "metadata": {},
     "outputs": [
      {
       "output_type": "pyout",
       "text": [
        "2"
       ],
       "metadata": {}
      }
     ],
     "input": [
      "a % 3"
     ],
     "language": "python",
     "prompt_number": 6
    },
    {
     "cell_type": "markdown",
     "metadata": {},
     "source": [
      "Ahora asignamos un real a la misma variable"
     ]
    },
    {
     "cell_type": "code",
     "execution_count": null,
     "metadata": {},
     "outputs": [
      {
       "output_type": "pyout",
       "text": [
        "2.17"
       ],
       "metadata": {}
      }
     ],
     "input": [
      "a = 2.17\n",
      "\n",
      "a"
     ],
     "language": "python",
     "prompt_number": 7
    },
    {
     "cell_type": "markdown",
     "metadata": {},
     "source": [
      "Tenemos las operaciones normales con reales (** = potencia)"
     ]
    },
    {
     "cell_type": "code",
     "execution_count": null,
     "metadata": {},
     "outputs": [
      {
       "output_type": "pyout",
       "text": [
        "4.7089"
       ],
       "metadata": {}
      }
     ],
     "input": [
      "a = a ** 2\n",
      "\n",
      "a"
     ],
     "language": "python",
     "prompt_number": 8
    },
    {
     "cell_type": "markdown",
     "metadata": {},
     "source": [
      "Tenemos los operadores de comparacion tipicos "
     ]
    },
    {
     "cell_type": "code",
     "execution_count": null,
     "metadata": {},
     "outputs": [
      {
       "output_type": "pyout",
       "text": [
        "True"
       ],
       "metadata": {}
      }
     ],
     "input": [
      "a > 3"
     ],
     "language": "python",
     "prompt_number": 9
    },
    {
     "cell_type": "markdown",
     "metadata": {},
     "source": [
      "Un detalle en las comparaciones que permite escribirlas de manera mas compacta"
     ]
    },
    {
     "cell_type": "code",
     "execution_count": null,
     "metadata": {},
     "outputs": [
      {
       "output_type": "pyout",
       "text": [
        "True"
       ],
       "metadata": {}
      }
     ],
     "input": [
      "1 < a < 10"
     ],
     "language": "python",
     "prompt_number": 10
    },
    {
     "cell_type": "markdown",
     "metadata": {},
     "source": [
      "La igualdad es con '=='"
     ]
    },
    {
     "cell_type": "code",
     "execution_count": null,
     "metadata": {},
     "outputs": [
      {
       "output_type": "pyout",
       "text": [
        "True"
       ],
       "metadata": {}
      }
     ],
     "input": [
      "a = 3\n",
      "\n",
      "a == 3"
     ],
     "language": "python",
     "prompt_number": 13
    }
   ]
  }
 ],
 "cells": [],
 "metadata": {},
 "nbformat": 3,
 "nbformat_minor": 0
}