{
 "worksheets": [
  {
   "cells": [
    {
     "cell_type": "heading",
     "metadata": {},
     "level": 1,
     "source": [
      "Modulos"
     ]
    },
    {
     "cell_type": "markdown",
     "metadata": {},
     "source": [
      "Las librerias de python se denominan modulos, definen funciones y/o clases que podemos importar en nuestro programa"
     ]
    },
    {
     "cell_type": "markdown",
     "metadata": {},
     "source": [
      "Podemos importar definiciones individuales, por ejemplo aqui importamos la funcion ctime del modulo time que convierte en milisegundos desde el epoch unix a una fecha, o la funcion que da el tiempo local en la estructura definida en time"
     ]
    },
    {
     "cell_type": "code",
     "metadata": {},
     "outputs": [
      {
       "output_type": "pyout",
       "text": [
        "'Thu Feb 12 17:21:16 2009'"
       ],
       "metadata": {}
      }
     ],
     "input": [
      "from time import ctime\n",
      "\n",
      "ctime(1234455676)"
     ],
     "language": "python",
     "prompt_number": 1
    },
    {
     "cell_type": "code",
     "metadata": {},
     "outputs": [
      {
       "output_type": "pyout",
       "text": [
        "time.struct_time(tm_year=2015, tm_mon=2, tm_mday=11, tm_hour=15, tm_min=37, tm_sec=34, tm_wday=2, tm_yday=42, tm_isdst=0)"
       ],
       "metadata": {}
      }
     ],
     "input": [
      "from time import localtime\n",
      "\n",
      "localtime()"
     ],
     "language": "python",
     "prompt_number": 6
    },
    {
     "cell_type": "markdown",
     "metadata": {},
     "source": [
      "Podemos asignar un alias a lo que importamos"
     ]
    },
    {
     "cell_type": "code",
     "metadata": {},
     "outputs": [
      {
       "output_type": "pyout",
       "text": [
        "time.struct_time(tm_year=2015, tm_mon=2, tm_mday=11, tm_hour=15, tm_min=43, tm_sec=59, tm_wday=2, tm_yday=42, tm_isdst=0)"
       ],
       "metadata": {}
      }
     ],
     "input": [
      "from time import localtime as lt\n",
      "lt()"
     ],
     "language": "python",
     "prompt_number": 17
    },
    {
     "cell_type": "markdown",
     "metadata": {},
     "source": [
      "O podemos importar todas las definiciones de modulo indicando el nombre que usaremos para acceder a ellas, en este caso importamos la estructura heapq que permite usar las listas como un heap"
     ]
    },
    {
     "cell_type": "code",
     "metadata": {},
     "outputs": [
      {
       "output_type": "pyout",
       "text": [
        "[-1, 1, 3, 7]"
       ],
       "metadata": {}
      }
     ],
     "input": [
      "import heapq as hp \n",
      "\n",
      "a = []\n",
      "hp.heappush(a, 1)\n",
      "hp.heappush(a, 7)\n",
      "hp.heappush(a, 3)\n",
      "hp.heappush(a, -1)\n",
      "\n",
      "a"
     ],
     "language": "python",
     "prompt_number": 15
    },
    {
     "cell_type": "code",
     "metadata": {},
     "outputs": [
      {
       "output_type": "pyout",
       "text": [
        "-1"
       ],
       "metadata": {}
      }
     ],
     "input": [
      "hp.heappop(a)"
     ],
     "language": "python",
     "prompt_number": 16
    }
   ]
  }
 ],
 "cells": [],
 "metadata": {},
 "nbformat": 3,
 "nbformat_minor": 0
}