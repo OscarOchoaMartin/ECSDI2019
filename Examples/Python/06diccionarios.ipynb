{
 "worksheets": [
  {
   "cells": [
    {
     "cell_type": "heading",
     "metadata": {},
     "level": 1,
     "source": [
      "Diccionarios"
     ]
    },
    {
     "cell_type": "markdown",
     "metadata": {},
     "source": [
      "Los diccionarios tambien son un tipo primitivo, se ponen los elementos entre llaves, la clave y el valor se separan con ':' ({} = diccionario vacio) . La clave no tiene porque ser un string, solo hace falta que se le pueda aplicar una funcion de hash."
     ]
    },
    {
     "cell_type": "code",
     "metadata": {},
     "outputs": [
      {
       "output_type": "pyout",
       "text": [
        "{}"
       ],
       "metadata": {}
      }
     ],
     "input": [
      "a = {}\n",
      "a"
     ],
     "language": "python",
     "prompt_number": 1
    },
    {
     "cell_type": "code",
     "metadata": {},
     "outputs": [
      {
       "output_type": "pyout",
       "text": [
        "{'juan': 3.14, 'maria': [1, 2, 3], 'pepe': 1}"
       ],
       "metadata": {}
      }
     ],
     "input": [
      "a = {'pepe': 1, 'juan': 3.14, 'maria': [1, 2, 3]}\n",
      "a"
     ],
     "language": "python",
     "prompt_number": 2
    },
    {
     "cell_type": "markdown",
     "metadata": {},
     "source": [
      "Podemos acceder por clave"
     ]
    },
    {
     "cell_type": "code",
     "metadata": {},
     "outputs": [
      {
       "output_type": "pyout",
       "text": [
        "1"
       ],
       "metadata": {}
      }
     ],
     "input": [
      "a['pepe']"
     ],
     "language": "python",
     "prompt_number": 4
    },
    {
     "cell_type": "markdown",
     "metadata": {},
     "source": [
      "Y usar cada elemento dependiendo de su tipo"
     ]
    },
    {
     "cell_type": "code",
     "metadata": {},
     "outputs": [
      {
       "output_type": "pyout",
       "text": [
        "2"
       ],
       "metadata": {}
      }
     ],
     "input": [
      "a['maria'][1]"
     ],
     "language": "python",
     "prompt_number": 5
    },
    {
     "cell_type": "markdown",
     "metadata": {},
     "source": [
      "Podemos cambiar el valor de la clave"
     ]
    },
    {
     "cell_type": "code",
     "metadata": {},
     "outputs": [
      {
       "output_type": "pyout",
       "text": [
        "{'juan': (1, 2), 'maria': [1, 2, 3], 'pepe': 1}"
       ],
       "metadata": {}
      }
     ],
     "input": [
      "a['juan'] = (1,2)\n",
      "a"
     ],
     "language": "python",
     "prompt_number": 6
    },
    {
     "cell_type": "markdown",
     "metadata": {},
     "source": [
      "Y tenemos las operaciones esperadas sobre diccionarios, como obtener todas las claves o todos sus valores en una lista "
     ]
    },
    {
     "cell_type": "code",
     "metadata": {},
     "outputs": [
      {
       "output_type": "pyout",
       "text": [
        "['juan', 'pepe', 'maria']"
       ],
       "metadata": {}
      }
     ],
     "input": [
      "a.keys()"
     ],
     "language": "python",
     "prompt_number": 7
    },
    {
     "cell_type": "code",
     "metadata": {},
     "outputs": [
      {
       "output_type": "pyout",
       "text": [
        "[(1, 2), 1, [1, 2, 3]]"
       ],
       "metadata": {}
      }
     ],
     "input": [
      "a.values()"
     ],
     "language": "python",
     "prompt_number": 8
    },
    {
     "cell_type": "markdown",
     "metadata": {},
     "source": [
      "Podemos tener como valores otros diccionarios e indexarlos a diferentes niveles"
     ]
    },
    {
     "cell_type": "code",
     "metadata": {},
     "outputs": [
      {
       "output_type": "pyout",
       "text": [
        "{'pepe': {'garcia': 27, 'perez': 33}}"
       ],
       "metadata": {}
      }
     ],
     "input": [
      "b = {'pepe': {'perez': 33, 'garcia': 27} }\n",
      "b"
     ],
     "language": "python",
     "prompt_number": 9
    },
    {
     "cell_type": "code",
     "metadata": {},
     "outputs": [
      {
       "output_type": "pyout",
       "text": [
        "33"
       ],
       "metadata": {}
      }
     ],
     "input": [
      "b['pepe']['perez']"
     ],
     "language": "python",
     "prompt_number": 10
    },
    {
     "cell_type": "markdown",
     "metadata": {},
     "source": [
      "Si damos un valor a una clave que no esta en el diccionario la añadimos"
     ]
    },
    {
     "cell_type": "code",
     "metadata": {},
     "outputs": [
      {
       "output_type": "pyout",
       "text": [
        "{'pepe': {'garcia': 27, 'perez': 33, 'ruiz': 22}}"
       ],
       "metadata": {}
      }
     ],
     "input": [
      "b['pepe']['ruiz'] = 22\n",
      "b"
     ],
     "language": "python",
     "prompt_number": 12
    }
   ]
  }
 ],
 "cells": [],
 "metadata": {},
 "nbformat": 3,
 "nbformat_minor": 0
}