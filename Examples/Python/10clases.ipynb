{
 "worksheets": [
  {
   "cells": [
    {
     "cell_type": "heading",
     "metadata": {},
     "level": 1,
     "source": [
      "Clases"
     ]
    },
    {
     "cell_type": "markdown",
     "metadata": {},
     "source": [
      "Definimos clases con **class**, que se documentan igual que las funciones. El constructor de las clases se llama **\\_\\_init\\_\\_** (atencion a los dobles subrayados), la variable de autoreferencia se llama *self** Las funciones que comienzan y terminan en doble subrayado son especiales, por ejemplo **\\_\\_str\\_\\_** permite definir la representacion del objeto como string, se usan para operaciones sobrecargadas o para ocultar metodos internos."
     ]
    },
    {
     "cell_type": "code",
     "metadata": {},
     "outputs": [
      {
       "output_type": "stream",
       "stream": "stdout",
       "text": [
        "pepe 33\n"
       ]
      }
     ],
     "input": [
      "class persona():\n",
      "    \"\"\"\n",
      "    Clase de personas\n",
      "    \"\"\"\n",
      "    def __init__(self, nombre, edad):\n",
      "        self.nombre = nombre\n",
      "        self.edad = edad\n",
      "        \n",
      "    def __str__(self):\n",
      "        return self.nombre + ' ' + str(self.edad)\n",
      "        \n",
      "        \n",
      "        \n",
      "pepe = persona('pepe', 33)\n",
      "\n",
      "print pepe"
     ],
     "language": "python",
     "prompt_number": 1
    },
    {
     "cell_type": "markdown",
     "metadata": {},
     "source": [
      "De hecho la definicion de la clase no fija absolutamente nada sobre cuales son los atributos que tiene, pudiendolos crear dinamicamente"
     ]
    },
    {
     "cell_type": "code",
     "metadata": {},
     "outputs": [
      {
       "output_type": "stream",
       "stream": "stdout",
       "text": [
        "pepe 33\nsu casa\n"
       ]
      }
     ],
     "input": [
      "pepe.domicilio = 'su casa'\n",
      "\n",
      "print pepe\n",
      "\n",
      "print pepe.domicilio"
     ],
     "language": "python",
     "prompt_number": 2
    },
    {
     "cell_type": "markdown",
     "metadata": {},
     "source": [
      "Y de hecho todos los atributos son publicos y visibles (no se requieren definir funciones de acceso). Por convencion metodos y atributos ocultos empiezan con un subrayado, pero solo es una convencion. "
     ]
    },
    {
     "cell_type": "code",
     "metadata": {},
     "outputs": [
      {
       "output_type": "stream",
       "stream": "stdout",
       "text": [
        "pepe 28\n"
       ]
      }
     ],
     "input": [
      "pepe.edad = 28\n",
      "\n",
      "print pepe"
     ],
     "language": "python",
     "prompt_number": 3
    },
    {
     "cell_type": "markdown",
     "metadata": {},
     "source": [
      "Tenemos herencia de clases, solo tenemos que indicar en la deficicion de que clase estamos heredando.\n",
      "\n",
      "Ahora podemos añadir nuevos atributos y metodos o redefinirlos. Los metodos de la clase padre se pueden llamar explicitamente."
     ]
    },
    {
     "cell_type": "code",
     "metadata": {},
     "outputs": [
      {
       "output_type": "stream",
       "stream": "stdout",
       "text": [
        "juan 27 barcelona\n"
       ]
      }
     ],
     "input": [
      "class barcelones(persona):\n",
      "    ciudad = 'barcelona'\n",
      "    def __str__(self):\n",
      "        return persona.__str__(self) + ' ' + self.ciudad\n",
      "    \n",
      "juan = barcelones('juan', 27)\n",
      "\n",
      "print juan"
     ],
     "language": "python",
     "prompt_number": 4
    }
   ]
  }
 ],
 "cells": [],
 "metadata": {},
 "nbformat": 3,
 "nbformat_minor": 0
}